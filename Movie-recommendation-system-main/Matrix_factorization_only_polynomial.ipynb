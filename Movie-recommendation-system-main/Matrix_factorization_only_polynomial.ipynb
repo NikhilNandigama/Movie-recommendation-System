{
  "cells": [
    {
      "cell_type": "code",
      "execution_count": 1,
      "metadata": {
        "colab": {
          "base_uri": "https://localhost:8080/"
        },
        "id": "hMjxMhGxPS53",
        "outputId": "35c87adb-5e7f-4d00-d55e-d26a1933337a"
      },
      "outputs": [
        {
          "data": {
            "text/plain": [
              "<torch._C.Generator at 0x1aa2fb94a90>"
            ]
          },
          "execution_count": 1,
          "metadata": {},
          "output_type": "execute_result"
        }
      ],
      "source": [
        "import pandas as pd\n",
        "import torch\n",
        "import torch.nn as nn\n",
        "from sklearn import model_selection\n",
        "import numpy as np\n",
        "torch.manual_seed(42)"
      ]
    },
    {
      "cell_type": "code",
      "execution_count": 2,
      "metadata": {
        "colab": {
          "base_uri": "https://localhost:8080/"
        },
        "id": "M2WkkxF8PfnP",
        "outputId": "2538b6e6-7c62-4683-bb5a-a0f40ac623b5"
      },
      "outputs": [
        {
          "data": {
            "text/plain": [
              "<bound method Series.unique of 0         242\n",
              "1         302\n",
              "2         377\n",
              "3          51\n",
              "4         346\n",
              "         ... \n",
              "99995     476\n",
              "99996     204\n",
              "99997    1090\n",
              "99998     225\n",
              "99999     203\n",
              "Name: movie id, Length: 100000, dtype: int64>"
            ]
          },
          "execution_count": 2,
          "metadata": {},
          "output_type": "execute_result"
        }
      ],
      "source": [
        "data = pd.read_csv(\"ml-100k/u.data\",sep=\"\\t\", header=None)\n",
        "data.columns = ['user id', 'movie id', 'rating', 'timestamp']\n",
        "data['movie id'].unique"
      ]
    },
    {
      "cell_type": "code",
      "execution_count": 3,
      "metadata": {
        "colab": {
          "base_uri": "https://localhost:8080/",
          "height": 411
        },
        "id": "FDZLbZ1_YfBU",
        "outputId": "2a35f0ab-2b5d-4b5a-8567-da955d124616"
      },
      "outputs": [
        {
          "data": {
            "text/html": [
              "<div>\n",
              "<style scoped>\n",
              "    .dataframe tbody tr th:only-of-type {\n",
              "        vertical-align: middle;\n",
              "    }\n",
              "\n",
              "    .dataframe tbody tr th {\n",
              "        vertical-align: top;\n",
              "    }\n",
              "\n",
              "    .dataframe thead th {\n",
              "        text-align: right;\n",
              "    }\n",
              "</style>\n",
              "<table border=\"1\" class=\"dataframe\">\n",
              "  <thead>\n",
              "    <tr style=\"text-align: right;\">\n",
              "      <th></th>\n",
              "      <th>movie id</th>\n",
              "      <th>movie title</th>\n",
              "      <th>release date</th>\n",
              "      <th>video release date</th>\n",
              "      <th>IMDb URL</th>\n",
              "      <th>unknown</th>\n",
              "      <th>Action</th>\n",
              "      <th>Adventure</th>\n",
              "      <th>Animation</th>\n",
              "      <th>Children's</th>\n",
              "      <th>...</th>\n",
              "      <th>Fantasy</th>\n",
              "      <th>Film-Noir</th>\n",
              "      <th>Horror</th>\n",
              "      <th>Musical</th>\n",
              "      <th>Mystery</th>\n",
              "      <th>Romance</th>\n",
              "      <th>Sci-Fi</th>\n",
              "      <th>Thriller</th>\n",
              "      <th>War</th>\n",
              "      <th>Western</th>\n",
              "    </tr>\n",
              "  </thead>\n",
              "  <tbody>\n",
              "    <tr>\n",
              "      <th>0</th>\n",
              "      <td>1</td>\n",
              "      <td>Toy Story (1995)</td>\n",
              "      <td>01-Jan-1995</td>\n",
              "      <td>NaN</td>\n",
              "      <td>http://us.imdb.com/M/title-exact?Toy%20Story%2...</td>\n",
              "      <td>0</td>\n",
              "      <td>0</td>\n",
              "      <td>0</td>\n",
              "      <td>1</td>\n",
              "      <td>1</td>\n",
              "      <td>...</td>\n",
              "      <td>0</td>\n",
              "      <td>0</td>\n",
              "      <td>0</td>\n",
              "      <td>0</td>\n",
              "      <td>0</td>\n",
              "      <td>0</td>\n",
              "      <td>0</td>\n",
              "      <td>0</td>\n",
              "      <td>0</td>\n",
              "      <td>0</td>\n",
              "    </tr>\n",
              "    <tr>\n",
              "      <th>1</th>\n",
              "      <td>2</td>\n",
              "      <td>GoldenEye (1995)</td>\n",
              "      <td>01-Jan-1995</td>\n",
              "      <td>NaN</td>\n",
              "      <td>http://us.imdb.com/M/title-exact?GoldenEye%20(...</td>\n",
              "      <td>0</td>\n",
              "      <td>1</td>\n",
              "      <td>1</td>\n",
              "      <td>0</td>\n",
              "      <td>0</td>\n",
              "      <td>...</td>\n",
              "      <td>0</td>\n",
              "      <td>0</td>\n",
              "      <td>0</td>\n",
              "      <td>0</td>\n",
              "      <td>0</td>\n",
              "      <td>0</td>\n",
              "      <td>0</td>\n",
              "      <td>1</td>\n",
              "      <td>0</td>\n",
              "      <td>0</td>\n",
              "    </tr>\n",
              "    <tr>\n",
              "      <th>2</th>\n",
              "      <td>3</td>\n",
              "      <td>Four Rooms (1995)</td>\n",
              "      <td>01-Jan-1995</td>\n",
              "      <td>NaN</td>\n",
              "      <td>http://us.imdb.com/M/title-exact?Four%20Rooms%...</td>\n",
              "      <td>0</td>\n",
              "      <td>0</td>\n",
              "      <td>0</td>\n",
              "      <td>0</td>\n",
              "      <td>0</td>\n",
              "      <td>...</td>\n",
              "      <td>0</td>\n",
              "      <td>0</td>\n",
              "      <td>0</td>\n",
              "      <td>0</td>\n",
              "      <td>0</td>\n",
              "      <td>0</td>\n",
              "      <td>0</td>\n",
              "      <td>1</td>\n",
              "      <td>0</td>\n",
              "      <td>0</td>\n",
              "    </tr>\n",
              "    <tr>\n",
              "      <th>3</th>\n",
              "      <td>4</td>\n",
              "      <td>Get Shorty (1995)</td>\n",
              "      <td>01-Jan-1995</td>\n",
              "      <td>NaN</td>\n",
              "      <td>http://us.imdb.com/M/title-exact?Get%20Shorty%...</td>\n",
              "      <td>0</td>\n",
              "      <td>1</td>\n",
              "      <td>0</td>\n",
              "      <td>0</td>\n",
              "      <td>0</td>\n",
              "      <td>...</td>\n",
              "      <td>0</td>\n",
              "      <td>0</td>\n",
              "      <td>0</td>\n",
              "      <td>0</td>\n",
              "      <td>0</td>\n",
              "      <td>0</td>\n",
              "      <td>0</td>\n",
              "      <td>0</td>\n",
              "      <td>0</td>\n",
              "      <td>0</td>\n",
              "    </tr>\n",
              "    <tr>\n",
              "      <th>4</th>\n",
              "      <td>5</td>\n",
              "      <td>Copycat (1995)</td>\n",
              "      <td>01-Jan-1995</td>\n",
              "      <td>NaN</td>\n",
              "      <td>http://us.imdb.com/M/title-exact?Copycat%20(1995)</td>\n",
              "      <td>0</td>\n",
              "      <td>0</td>\n",
              "      <td>0</td>\n",
              "      <td>0</td>\n",
              "      <td>0</td>\n",
              "      <td>...</td>\n",
              "      <td>0</td>\n",
              "      <td>0</td>\n",
              "      <td>0</td>\n",
              "      <td>0</td>\n",
              "      <td>0</td>\n",
              "      <td>0</td>\n",
              "      <td>0</td>\n",
              "      <td>1</td>\n",
              "      <td>0</td>\n",
              "      <td>0</td>\n",
              "    </tr>\n",
              "  </tbody>\n",
              "</table>\n",
              "<p>5 rows × 24 columns</p>\n",
              "</div>"
            ],
            "text/plain": [
              "   movie id        movie title release date  video release date  \\\n",
              "0         1   Toy Story (1995)  01-Jan-1995                 NaN   \n",
              "1         2   GoldenEye (1995)  01-Jan-1995                 NaN   \n",
              "2         3  Four Rooms (1995)  01-Jan-1995                 NaN   \n",
              "3         4  Get Shorty (1995)  01-Jan-1995                 NaN   \n",
              "4         5     Copycat (1995)  01-Jan-1995                 NaN   \n",
              "\n",
              "                                            IMDb URL  unknown  Action  \\\n",
              "0  http://us.imdb.com/M/title-exact?Toy%20Story%2...        0       0   \n",
              "1  http://us.imdb.com/M/title-exact?GoldenEye%20(...        0       1   \n",
              "2  http://us.imdb.com/M/title-exact?Four%20Rooms%...        0       0   \n",
              "3  http://us.imdb.com/M/title-exact?Get%20Shorty%...        0       1   \n",
              "4  http://us.imdb.com/M/title-exact?Copycat%20(1995)        0       0   \n",
              "\n",
              "   Adventure  Animation  Children's  ...  Fantasy  Film-Noir  Horror  Musical  \\\n",
              "0          0          1           1  ...        0          0       0        0   \n",
              "1          1          0           0  ...        0          0       0        0   \n",
              "2          0          0           0  ...        0          0       0        0   \n",
              "3          0          0           0  ...        0          0       0        0   \n",
              "4          0          0           0  ...        0          0       0        0   \n",
              "\n",
              "   Mystery  Romance  Sci-Fi  Thriller  War  Western  \n",
              "0        0        0       0         0    0        0  \n",
              "1        0        0       0         1    0        0  \n",
              "2        0        0       0         1    0        0  \n",
              "3        0        0       0         0    0        0  \n",
              "4        0        0       0         1    0        0  \n",
              "\n",
              "[5 rows x 24 columns]"
            ]
          },
          "execution_count": 3,
          "metadata": {},
          "output_type": "execute_result"
        }
      ],
      "source": [
        "movies = pd.read_csv(\"ml-100k/u.item\",\n",
        "                    sep=\"|\", encoding='latin-1', header=None)\n",
        "movies.columns = ['movie id', 'movie title' ,'release date','video release date', 'IMDb URL',\n",
        "                 'unknown', 'Action', 'Adventure', 'Animation', 'Children\\'s', 'Comedy',\n",
        "                 'Crime', 'Documentary', 'Drama', 'Fantasy', 'Film-Noir', 'Horror',\n",
        "                 'Musical', 'Mystery', 'Romance', 'Sci-Fi', 'Thriller', 'War', 'Western']\n",
        "movies.head()"
      ]
    },
    {
      "cell_type": "code",
      "execution_count": 4,
      "metadata": {
        "colab": {
          "base_uri": "https://localhost:8080/",
          "height": 36
        },
        "id": "p_E-olF7l8RK",
        "outputId": "4784e8c7-7820-468d-ac25-2a13d4081cb7"
      },
      "outputs": [
        {
          "data": {
            "text/plain": [
              "'Anna (1996)'"
            ]
          },
          "execution_count": 4,
          "metadata": {},
          "output_type": "execute_result"
        }
      ],
      "source": [
        "map_id_movie = {}\n",
        "for id,row in movies.iterrows():\n",
        "  map_id_movie[row['movie id']] = row['movie title']\n",
        "map_id_movie[1398]"
      ]
    },
    {
      "cell_type": "code",
      "execution_count": 5,
      "metadata": {
        "colab": {
          "base_uri": "https://localhost:8080/"
        },
        "id": "oKncB8y0ZDpy",
        "outputId": "ca29fa02-1bd8-412f-f5be-727b73d05fe7"
      },
      "outputs": [
        {
          "name": "stdout",
          "output_type": "stream",
          "text": [
            "Number of users: 943\n",
            "Number of movies: 1682\n"
          ]
        }
      ],
      "source": [
        "num_users = data['user id'].nunique()\n",
        "num_movies = data['movie id'].nunique()\n",
        "print(\n",
        "    (f\"Number of users: {num_users}\\n\"\n",
        "    f\"Number of movies: {num_movies}\")\n",
        ")"
      ]
    },
    {
      "cell_type": "code",
      "execution_count": 6,
      "metadata": {
        "colab": {
          "base_uri": "https://localhost:8080/",
          "height": 423
        },
        "id": "GcqUQ53BaGJ7",
        "outputId": "dc356cee-0ecc-4f1f-d46e-cface6c72d19"
      },
      "outputs": [
        {
          "data": {
            "text/html": [
              "<div>\n",
              "<style scoped>\n",
              "    .dataframe tbody tr th:only-of-type {\n",
              "        vertical-align: middle;\n",
              "    }\n",
              "\n",
              "    .dataframe tbody tr th {\n",
              "        vertical-align: top;\n",
              "    }\n",
              "\n",
              "    .dataframe thead th {\n",
              "        text-align: right;\n",
              "    }\n",
              "</style>\n",
              "<table border=\"1\" class=\"dataframe\">\n",
              "  <thead>\n",
              "    <tr style=\"text-align: right;\">\n",
              "      <th></th>\n",
              "      <th>user id</th>\n",
              "      <th>movie id</th>\n",
              "      <th>rating</th>\n",
              "      <th>timestamp</th>\n",
              "    </tr>\n",
              "  </thead>\n",
              "  <tbody>\n",
              "    <tr>\n",
              "      <th>24188</th>\n",
              "      <td>299</td>\n",
              "      <td>88</td>\n",
              "      <td>3</td>\n",
              "      <td>889502902</td>\n",
              "    </tr>\n",
              "    <tr>\n",
              "      <th>14023</th>\n",
              "      <td>347</td>\n",
              "      <td>462</td>\n",
              "      <td>2</td>\n",
              "      <td>881654359</td>\n",
              "    </tr>\n",
              "    <tr>\n",
              "      <th>20170</th>\n",
              "      <td>96</td>\n",
              "      <td>185</td>\n",
              "      <td>5</td>\n",
              "      <td>884403866</td>\n",
              "    </tr>\n",
              "    <tr>\n",
              "      <th>87853</th>\n",
              "      <td>880</td>\n",
              "      <td>302</td>\n",
              "      <td>5</td>\n",
              "      <td>880166451</td>\n",
              "    </tr>\n",
              "    <tr>\n",
              "      <th>8174</th>\n",
              "      <td>177</td>\n",
              "      <td>289</td>\n",
              "      <td>2</td>\n",
              "      <td>880130534</td>\n",
              "    </tr>\n",
              "    <tr>\n",
              "      <th>...</th>\n",
              "      <td>...</td>\n",
              "      <td>...</td>\n",
              "      <td>...</td>\n",
              "      <td>...</td>\n",
              "    </tr>\n",
              "    <tr>\n",
              "      <th>18733</th>\n",
              "      <td>43</td>\n",
              "      <td>215</td>\n",
              "      <td>5</td>\n",
              "      <td>883955467</td>\n",
              "    </tr>\n",
              "    <tr>\n",
              "      <th>83494</th>\n",
              "      <td>860</td>\n",
              "      <td>516</td>\n",
              "      <td>3</td>\n",
              "      <td>885991040</td>\n",
              "    </tr>\n",
              "    <tr>\n",
              "      <th>36379</th>\n",
              "      <td>313</td>\n",
              "      <td>484</td>\n",
              "      <td>5</td>\n",
              "      <td>891016193</td>\n",
              "    </tr>\n",
              "    <tr>\n",
              "      <th>17294</th>\n",
              "      <td>112</td>\n",
              "      <td>286</td>\n",
              "      <td>4</td>\n",
              "      <td>884992484</td>\n",
              "    </tr>\n",
              "    <tr>\n",
              "      <th>71036</th>\n",
              "      <td>660</td>\n",
              "      <td>3</td>\n",
              "      <td>1</td>\n",
              "      <td>891405958</td>\n",
              "    </tr>\n",
              "  </tbody>\n",
              "</table>\n",
              "<p>10000 rows × 4 columns</p>\n",
              "</div>"
            ],
            "text/plain": [
              "       user id  movie id  rating  timestamp\n",
              "24188      299        88       3  889502902\n",
              "14023      347       462       2  881654359\n",
              "20170       96       185       5  884403866\n",
              "87853      880       302       5  880166451\n",
              "8174       177       289       2  880130534\n",
              "...        ...       ...     ...        ...\n",
              "18733       43       215       5  883955467\n",
              "83494      860       516       3  885991040\n",
              "36379      313       484       5  891016193\n",
              "17294      112       286       4  884992484\n",
              "71036      660         3       1  891405958\n",
              "\n",
              "[10000 rows x 4 columns]"
            ]
          },
          "execution_count": 6,
          "metadata": {},
          "output_type": "execute_result"
        }
      ],
      "source": [
        "data_train,data_test = model_selection.train_test_split(data, test_size = 0.1,random_state = 42,stratify = data['rating'])\n",
        "data_test"
      ]
    },
    {
      "cell_type": "code",
      "execution_count": 7,
      "metadata": {
        "id": "PjOZQ0f0ke_W"
      },
      "outputs": [],
      "source": [
        "class MF(nn.Module):\n",
        "  def __init__(self,users,movie_ids,embed_size):\n",
        "    super(MF,self).__init__()\n",
        "    self.user_embed = nn.Embedding(users,embed_size)\n",
        "    self.user_bias = nn.Embedding(users, 1)\n",
        "    self.movie_embed = nn.Embedding(movie_ids,embed_size)\n",
        "    self.movie_bias = nn.Embedding(movie_ids,1)\n",
        "    self.user_embed.weight.data.uniform_(0,0.05)\n",
        "    self.movie_embed.weight.data.uniform_(0,0.05)\n",
        "    self.user_bias.weight.data.uniform_(-0.01,0.01)\n",
        "    self.movie_bias.weight.data.uniform_(-0.01,0.01)\n",
        "\n",
        "\n",
        "  def forward(self,u,v):\n",
        "    U = self.user_embed(u)\n",
        "    V = self.movie_embed(v)\n",
        "    b_u = self.user_bias(u).squeeze()\n",
        "    b_v = self.movie_bias(v).squeeze()\n",
        "    return torch.sum(U * V + U*2 * V*2, dim=1)\n"
      ]
    },
    {
      "cell_type": "code",
      "execution_count": 8,
      "metadata": {
        "id": "mS_8zKl7phP5"
      },
      "outputs": [],
      "source": [
        "def train_epochs(model,lr,epochs,Nueralnet = False):\n",
        "  optimizer = torch.optim.Adam(model.parameters(), lr=lr)\n",
        "  loss_fn = nn.MSELoss()\n",
        "  for t in range(epochs):\n",
        "    model.train()\n",
        "    users = torch.LongTensor(data_train['user id'].to_numpy()) # .cuda()\n",
        "    items = torch.LongTensor(data_train['movie id'].to_numpy()) #.cuda()\n",
        "    if Nueralnet:\n",
        "        ratings = torch.FloatTensor(data_train['rating'].to_numpy())/5\n",
        "        ratings = ratings.unsqueeze(1)\n",
        "    else:\n",
        "        ratings = torch.FloatTensor(data_train['rating'].to_numpy()) #.cuda()\n",
        "    y_pred = model(users,items)\n",
        "    loss_train = loss_fn(y_pred,ratings)\n",
        "\n",
        "    # Backpropagation\n",
        "    optimizer.zero_grad()\n",
        "    loss_train.backward()\n",
        "    optimizer.step()\n",
        "\n",
        "    model.eval()\n",
        "    with torch.no_grad():\n",
        "        test_users = torch.LongTensor(data_test['user id'].to_numpy())\n",
        "        test_items = torch.LongTensor(data_test['movie id'].to_numpy())\n",
        "        if Nueralnet:\n",
        "            test_ratings = torch.FloatTensor(data_test['rating'].to_numpy())/5\n",
        "            test_ratings=test_ratings.unsqueeze(1)\n",
        "        else:\n",
        "            test_ratings = torch.FloatTensor(data_test['rating'].to_numpy())\n",
        "        pred_test = model(test_users,test_items)\n",
        "        loss_test = loss_fn(pred_test, test_ratings)\n",
        "\n",
        "    print(f\"Epoch {t+1} -- Train loss: {loss_train:>7f} Test loss: {loss_test:>7f}\")\n"
      ]
    },
    {
      "cell_type": "code",
      "execution_count": 9,
      "metadata": {
        "colab": {
          "base_uri": "https://localhost:8080/"
        },
        "id": "-hEqdQczIClM",
        "outputId": "89dacaa3-8582-44dc-87e3-209386b1b538"
      },
      "outputs": [
        {
          "name": "stdout",
          "output_type": "stream",
          "text": [
            "Epoch 1 -- Train loss: 11.633005 Test loss: 3.297906\n",
            "Epoch 2 -- Train loss: 3.297945 Test loss: 4.835927\n",
            "Epoch 3 -- Train loss: 4.800446 Test loss: 3.018769\n",
            "Epoch 4 -- Train loss: 2.919910 Test loss: 1.011774\n",
            "Epoch 5 -- Train loss: 0.917120 Test loss: 2.014729\n",
            "Epoch 6 -- Train loss: 1.932554 Test loss: 3.024206\n",
            "Epoch 7 -- Train loss: 2.947268 Test loss: 2.889753\n",
            "Epoch 8 -- Train loss: 2.807131 Test loss: 1.980415\n",
            "Epoch 9 -- Train loss: 1.880545 Test loss: 1.258407\n",
            "Epoch 10 -- Train loss: 1.132760 Test loss: 1.482287\n",
            "Epoch 11 -- Train loss: 1.336005 Test loss: 1.941214\n",
            "Epoch 12 -- Train loss: 1.803769 Test loss: 1.628931\n",
            "Epoch 13 -- Train loss: 1.531134 Test loss: 1.127962\n",
            "Epoch 14 -- Train loss: 1.070038 Test loss: 1.145743\n",
            "Epoch 15 -- Train loss: 1.104901 Test loss: 1.450125\n",
            "Epoch 16 -- Train loss: 1.404414 Test loss: 1.561811\n",
            "Epoch 17 -- Train loss: 1.499401 Test loss: 1.353370\n",
            "Epoch 18 -- Train loss: 1.269827 Test loss: 1.066043\n",
            "Epoch 19 -- Train loss: 0.960823 Test loss: 1.037856\n",
            "Epoch 20 -- Train loss: 0.912071 Test loss: 1.257762\n",
            "Epoch 21 -- Train loss: 1.113058 Test loss: 1.327734\n",
            "Epoch 22 -- Train loss: 1.169685 Test loss: 1.136705\n",
            "Epoch 23 -- Train loss: 0.977161 Test loss: 0.989811\n",
            "Epoch 24 -- Train loss: 0.839112 Test loss: 1.040477\n",
            "Epoch 25 -- Train loss: 0.899977 Test loss: 1.137653\n",
            "Epoch 26 -- Train loss: 1.001396 Test loss: 1.117789\n",
            "Epoch 27 -- Train loss: 0.977867 Test loss: 0.998556\n",
            "Epoch 28 -- Train loss: 0.848511 Test loss: 0.929143\n",
            "Epoch 29 -- Train loss: 0.765269 Test loss: 0.988210\n",
            "Epoch 30 -- Train loss: 0.809064 Test loss: 1.057089\n",
            "Epoch 31 -- Train loss: 0.861351 Test loss: 1.014715\n",
            "Epoch 32 -- Train loss: 0.800448 Test loss: 0.940926\n",
            "Epoch 33 -- Train loss: 0.707353 Test loss: 0.947615\n",
            "Epoch 34 -- Train loss: 0.695693 Test loss: 1.000953\n",
            "Epoch 35 -- Train loss: 0.732029 Test loss: 1.008870\n",
            "Epoch 36 -- Train loss: 0.723779 Test loss: 0.958624\n",
            "Epoch 37 -- Train loss: 0.657843 Test loss: 0.919193\n",
            "Epoch 38 -- Train loss: 0.603178 Test loss: 0.934505\n",
            "Epoch 39 -- Train loss: 0.603433 Test loss: 0.956963\n",
            "Epoch 40 -- Train loss: 0.609743 Test loss: 0.935581\n",
            "Epoch 41 -- Train loss: 0.569343 Test loss: 0.905674\n",
            "Epoch 42 -- Train loss: 0.517061 Test loss: 0.913232\n",
            "Epoch 43 -- Train loss: 0.500307 Test loss: 0.936534\n",
            "Epoch 44 -- Train loss: 0.499443 Test loss: 0.934514\n",
            "Epoch 45 -- Train loss: 0.475052 Test loss: 0.912114\n",
            "Epoch 46 -- Train loss: 0.432894 Test loss: 0.904191\n",
            "Epoch 47 -- Train loss: 0.407252 Test loss: 0.916330\n",
            "Epoch 48 -- Train loss: 0.401525 Test loss: 0.921103\n",
            "Epoch 49 -- Train loss: 0.385768 Test loss: 0.913523\n",
            "Epoch 50 -- Train loss: 0.354241 Test loss: 0.917149\n",
            "Epoch 51 -- Train loss: 0.332097 Test loss: 0.935322\n",
            "Epoch 52 -- Train loss: 0.325170 Test loss: 0.946396\n",
            "Epoch 53 -- Train loss: 0.313713 Test loss: 0.942505\n",
            "Epoch 54 -- Train loss: 0.290692 Test loss: 0.939504\n",
            "Epoch 55 -- Train loss: 0.271447 Test loss: 0.947218\n",
            "Epoch 56 -- Train loss: 0.263733 Test loss: 0.955146\n",
            "Epoch 57 -- Train loss: 0.254386 Test loss: 0.957177\n",
            "Epoch 58 -- Train loss: 0.236231 Test loss: 0.963289\n",
            "Epoch 59 -- Train loss: 0.220684 Test loss: 0.976894\n",
            "Epoch 60 -- Train loss: 0.213547 Test loss: 0.987250\n",
            "Model trained\n"
          ]
        }
      ],
      "source": [
        "model = MF(num_users+1, num_movies+1,embed_size=100)\n",
        "train_epochs(model,0.04,60)\n",
        "print(\"Model trained\")\n"
      ]
    },
    {
      "cell_type": "code",
      "execution_count": 10,
      "metadata": {
        "colab": {
          "base_uri": "https://localhost:8080/"
        },
        "id": "EeuPFwjcWA4v",
        "outputId": "16e3bd0f-69f3-450f-a641-826847a2b725"
      },
      "outputs": [],
      "source": [
        "user_id = input(\"Enter the user_id for movie recommendations: \")\n",
        "movie_list = data[data['user id'] == int(user_id)]['movie id'].to_list()\n",
        "unseen_list = [int(x) for x in range(1,num_movies+1) if x not in movie_list]\n",
        "unseen_list = np.array(unseen_list)\n",
        "temp_x = torch.LongTensor(np.full(np.size(unseen_list),int(user_id)))\n",
        "unseen_mov = torch.LongTensor(unseen_list)\n"
      ]
    },
    {
      "cell_type": "code",
      "execution_count": 11,
      "metadata": {
        "colab": {
          "base_uri": "https://localhost:8080/"
        },
        "id": "mjqlHAyD_KNw",
        "outputId": "76a2762f-9adb-4f77-9a55-a5b3e3068c15"
      },
      "outputs": [
        {
          "name": "stdout",
          "output_type": "stream",
          "text": [
            "-------------Recommended movies by MF--------------\n",
            "In the Company of Men (1997) 6.2190433\n",
            "Pather Panchali (1955) 6.0320153\n",
            "Bridge on the River Kwai, The (1957) 5.8659463\n",
            "Wallace & Gromit: The Best of Aardman Animation (1996) 5.8282504\n",
            "When We Were Kings (1996) 5.7794437\n",
            "Boy's Life 2 (1997) 5.7392445\n",
            "Paths of Glory (1957) 5.7376103\n",
            "Jean de Florette (1986) 5.699022\n",
            "Roman Holiday (1953) 5.6876903\n",
            "All About Eve (1950) 5.6794105\n"
          ]
        }
      ],
      "source": [
        "model.eval()\n",
        "predictions_MF = model(temp_x,unseen_mov)\n",
        "sorted_indices = np.argsort(predictions_MF.detach().numpy())[::-1]\n",
        "ordered_movies = unseen_list[sorted_indices]\n",
        "ordered_ratings = predictions_MF.detach().numpy()[sorted_indices]\n",
        "print(\"-------------Recommended movies by MF--------------\")\n",
        "i=0\n",
        "for xyz in ordered_movies[:10]:\n",
        "  print(map_id_movie[xyz],ordered_ratings[i])\n",
        "  i=i+1"
      ]
    },
    {
      "cell_type": "code",
      "execution_count": null,
      "metadata": {
        "id": "zsllIBos_cup"
      },
      "outputs": [],
      "source": []
    }
  ],
  "metadata": {
    "colab": {
      "provenance": []
    },
    "kernelspec": {
      "display_name": "Python 3",
      "name": "python3"
    },
    "language_info": {
      "codemirror_mode": {
        "name": "ipython",
        "version": 3
      },
      "file_extension": ".py",
      "mimetype": "text/x-python",
      "name": "python",
      "nbconvert_exporter": "python",
      "pygments_lexer": "ipython3",
      "version": "3.10.1"
    }
  },
  "nbformat": 4,
  "nbformat_minor": 0
}
