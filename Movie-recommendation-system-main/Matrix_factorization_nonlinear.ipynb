{
  "cells": [
    {
      "cell_type": "code",
      "execution_count": 1,
      "metadata": {
        "colab": {
          "base_uri": "https://localhost:8080/"
        },
        "id": "hMjxMhGxPS53",
        "outputId": "bc9bc8bc-2d63-4054-bf1d-872bb82f78ea"
      },
      "outputs": [
        {
          "data": {
            "text/plain": [
              "<torch._C.Generator at 0x18e63534a90>"
            ]
          },
          "execution_count": 1,
          "metadata": {},
          "output_type": "execute_result"
        }
      ],
      "source": [
        "import pandas as pd\n",
        "import torch\n",
        "import torch.nn as nn\n",
        "from sklearn import model_selection\n",
        "import numpy as np\n",
        "torch.manual_seed(42)"
      ]
    },
    {
      "cell_type": "code",
      "execution_count": 2,
      "metadata": {
        "colab": {
          "base_uri": "https://localhost:8080/"
        },
        "id": "M2WkkxF8PfnP",
        "outputId": "fda7382a-0408-4193-d07b-b0a213afe15f"
      },
      "outputs": [
        {
          "data": {
            "text/plain": [
              "<bound method Series.unique of 0         242\n",
              "1         302\n",
              "2         377\n",
              "3          51\n",
              "4         346\n",
              "         ... \n",
              "99995     476\n",
              "99996     204\n",
              "99997    1090\n",
              "99998     225\n",
              "99999     203\n",
              "Name: movie id, Length: 100000, dtype: int64>"
            ]
          },
          "execution_count": 2,
          "metadata": {},
          "output_type": "execute_result"
        }
      ],
      "source": [
        "data = pd.read_csv(\"ml-100k/u.data\",sep=\"\\t\", header=None)\n",
        "data.columns = ['user id', 'movie id', 'rating', 'timestamp']\n",
        "data['movie id'].unique"
      ]
    },
    {
      "cell_type": "code",
      "execution_count": 3,
      "metadata": {
        "colab": {
          "base_uri": "https://localhost:8080/",
          "height": 411
        },
        "id": "FDZLbZ1_YfBU",
        "outputId": "eaa59dfb-0188-4c3f-fd8f-b426562be98c"
      },
      "outputs": [
        {
          "data": {
            "text/html": [
              "<div>\n",
              "<style scoped>\n",
              "    .dataframe tbody tr th:only-of-type {\n",
              "        vertical-align: middle;\n",
              "    }\n",
              "\n",
              "    .dataframe tbody tr th {\n",
              "        vertical-align: top;\n",
              "    }\n",
              "\n",
              "    .dataframe thead th {\n",
              "        text-align: right;\n",
              "    }\n",
              "</style>\n",
              "<table border=\"1\" class=\"dataframe\">\n",
              "  <thead>\n",
              "    <tr style=\"text-align: right;\">\n",
              "      <th></th>\n",
              "      <th>movie id</th>\n",
              "      <th>movie title</th>\n",
              "      <th>release date</th>\n",
              "      <th>video release date</th>\n",
              "      <th>IMDb URL</th>\n",
              "      <th>unknown</th>\n",
              "      <th>Action</th>\n",
              "      <th>Adventure</th>\n",
              "      <th>Animation</th>\n",
              "      <th>Children's</th>\n",
              "      <th>...</th>\n",
              "      <th>Fantasy</th>\n",
              "      <th>Film-Noir</th>\n",
              "      <th>Horror</th>\n",
              "      <th>Musical</th>\n",
              "      <th>Mystery</th>\n",
              "      <th>Romance</th>\n",
              "      <th>Sci-Fi</th>\n",
              "      <th>Thriller</th>\n",
              "      <th>War</th>\n",
              "      <th>Western</th>\n",
              "    </tr>\n",
              "  </thead>\n",
              "  <tbody>\n",
              "    <tr>\n",
              "      <th>0</th>\n",
              "      <td>1</td>\n",
              "      <td>Toy Story (1995)</td>\n",
              "      <td>01-Jan-1995</td>\n",
              "      <td>NaN</td>\n",
              "      <td>http://us.imdb.com/M/title-exact?Toy%20Story%2...</td>\n",
              "      <td>0</td>\n",
              "      <td>0</td>\n",
              "      <td>0</td>\n",
              "      <td>1</td>\n",
              "      <td>1</td>\n",
              "      <td>...</td>\n",
              "      <td>0</td>\n",
              "      <td>0</td>\n",
              "      <td>0</td>\n",
              "      <td>0</td>\n",
              "      <td>0</td>\n",
              "      <td>0</td>\n",
              "      <td>0</td>\n",
              "      <td>0</td>\n",
              "      <td>0</td>\n",
              "      <td>0</td>\n",
              "    </tr>\n",
              "    <tr>\n",
              "      <th>1</th>\n",
              "      <td>2</td>\n",
              "      <td>GoldenEye (1995)</td>\n",
              "      <td>01-Jan-1995</td>\n",
              "      <td>NaN</td>\n",
              "      <td>http://us.imdb.com/M/title-exact?GoldenEye%20(...</td>\n",
              "      <td>0</td>\n",
              "      <td>1</td>\n",
              "      <td>1</td>\n",
              "      <td>0</td>\n",
              "      <td>0</td>\n",
              "      <td>...</td>\n",
              "      <td>0</td>\n",
              "      <td>0</td>\n",
              "      <td>0</td>\n",
              "      <td>0</td>\n",
              "      <td>0</td>\n",
              "      <td>0</td>\n",
              "      <td>0</td>\n",
              "      <td>1</td>\n",
              "      <td>0</td>\n",
              "      <td>0</td>\n",
              "    </tr>\n",
              "    <tr>\n",
              "      <th>2</th>\n",
              "      <td>3</td>\n",
              "      <td>Four Rooms (1995)</td>\n",
              "      <td>01-Jan-1995</td>\n",
              "      <td>NaN</td>\n",
              "      <td>http://us.imdb.com/M/title-exact?Four%20Rooms%...</td>\n",
              "      <td>0</td>\n",
              "      <td>0</td>\n",
              "      <td>0</td>\n",
              "      <td>0</td>\n",
              "      <td>0</td>\n",
              "      <td>...</td>\n",
              "      <td>0</td>\n",
              "      <td>0</td>\n",
              "      <td>0</td>\n",
              "      <td>0</td>\n",
              "      <td>0</td>\n",
              "      <td>0</td>\n",
              "      <td>0</td>\n",
              "      <td>1</td>\n",
              "      <td>0</td>\n",
              "      <td>0</td>\n",
              "    </tr>\n",
              "    <tr>\n",
              "      <th>3</th>\n",
              "      <td>4</td>\n",
              "      <td>Get Shorty (1995)</td>\n",
              "      <td>01-Jan-1995</td>\n",
              "      <td>NaN</td>\n",
              "      <td>http://us.imdb.com/M/title-exact?Get%20Shorty%...</td>\n",
              "      <td>0</td>\n",
              "      <td>1</td>\n",
              "      <td>0</td>\n",
              "      <td>0</td>\n",
              "      <td>0</td>\n",
              "      <td>...</td>\n",
              "      <td>0</td>\n",
              "      <td>0</td>\n",
              "      <td>0</td>\n",
              "      <td>0</td>\n",
              "      <td>0</td>\n",
              "      <td>0</td>\n",
              "      <td>0</td>\n",
              "      <td>0</td>\n",
              "      <td>0</td>\n",
              "      <td>0</td>\n",
              "    </tr>\n",
              "    <tr>\n",
              "      <th>4</th>\n",
              "      <td>5</td>\n",
              "      <td>Copycat (1995)</td>\n",
              "      <td>01-Jan-1995</td>\n",
              "      <td>NaN</td>\n",
              "      <td>http://us.imdb.com/M/title-exact?Copycat%20(1995)</td>\n",
              "      <td>0</td>\n",
              "      <td>0</td>\n",
              "      <td>0</td>\n",
              "      <td>0</td>\n",
              "      <td>0</td>\n",
              "      <td>...</td>\n",
              "      <td>0</td>\n",
              "      <td>0</td>\n",
              "      <td>0</td>\n",
              "      <td>0</td>\n",
              "      <td>0</td>\n",
              "      <td>0</td>\n",
              "      <td>0</td>\n",
              "      <td>1</td>\n",
              "      <td>0</td>\n",
              "      <td>0</td>\n",
              "    </tr>\n",
              "  </tbody>\n",
              "</table>\n",
              "<p>5 rows × 24 columns</p>\n",
              "</div>"
            ],
            "text/plain": [
              "   movie id        movie title release date  video release date  \\\n",
              "0         1   Toy Story (1995)  01-Jan-1995                 NaN   \n",
              "1         2   GoldenEye (1995)  01-Jan-1995                 NaN   \n",
              "2         3  Four Rooms (1995)  01-Jan-1995                 NaN   \n",
              "3         4  Get Shorty (1995)  01-Jan-1995                 NaN   \n",
              "4         5     Copycat (1995)  01-Jan-1995                 NaN   \n",
              "\n",
              "                                            IMDb URL  unknown  Action  \\\n",
              "0  http://us.imdb.com/M/title-exact?Toy%20Story%2...        0       0   \n",
              "1  http://us.imdb.com/M/title-exact?GoldenEye%20(...        0       1   \n",
              "2  http://us.imdb.com/M/title-exact?Four%20Rooms%...        0       0   \n",
              "3  http://us.imdb.com/M/title-exact?Get%20Shorty%...        0       1   \n",
              "4  http://us.imdb.com/M/title-exact?Copycat%20(1995)        0       0   \n",
              "\n",
              "   Adventure  Animation  Children's  ...  Fantasy  Film-Noir  Horror  Musical  \\\n",
              "0          0          1           1  ...        0          0       0        0   \n",
              "1          1          0           0  ...        0          0       0        0   \n",
              "2          0          0           0  ...        0          0       0        0   \n",
              "3          0          0           0  ...        0          0       0        0   \n",
              "4          0          0           0  ...        0          0       0        0   \n",
              "\n",
              "   Mystery  Romance  Sci-Fi  Thriller  War  Western  \n",
              "0        0        0       0         0    0        0  \n",
              "1        0        0       0         1    0        0  \n",
              "2        0        0       0         1    0        0  \n",
              "3        0        0       0         0    0        0  \n",
              "4        0        0       0         1    0        0  \n",
              "\n",
              "[5 rows x 24 columns]"
            ]
          },
          "execution_count": 3,
          "metadata": {},
          "output_type": "execute_result"
        }
      ],
      "source": [
        "movies = pd.read_csv(\"ml-100k/u.item\",\n",
        "                    sep=\"|\", encoding='latin-1', header=None)\n",
        "movies.columns = ['movie id', 'movie title' ,'release date','video release date', 'IMDb URL',\n",
        "                 'unknown', 'Action', 'Adventure', 'Animation', 'Children\\'s', 'Comedy',\n",
        "                 'Crime', 'Documentary', 'Drama', 'Fantasy', 'Film-Noir', 'Horror',\n",
        "                 'Musical', 'Mystery', 'Romance', 'Sci-Fi', 'Thriller', 'War', 'Western']\n",
        "movies.head()"
      ]
    },
    {
      "cell_type": "code",
      "execution_count": 4,
      "metadata": {
        "colab": {
          "base_uri": "https://localhost:8080/",
          "height": 36
        },
        "id": "p_E-olF7l8RK",
        "outputId": "5c42e3fe-b9fb-43f5-e903-accf7e618ed0"
      },
      "outputs": [
        {
          "data": {
            "text/plain": [
              "'Anna (1996)'"
            ]
          },
          "execution_count": 4,
          "metadata": {},
          "output_type": "execute_result"
        }
      ],
      "source": [
        "map_id_movie = {}\n",
        "for id,row in movies.iterrows():\n",
        "  map_id_movie[row['movie id']] = row['movie title']\n",
        "map_id_movie[1398]"
      ]
    },
    {
      "cell_type": "code",
      "execution_count": 5,
      "metadata": {
        "colab": {
          "base_uri": "https://localhost:8080/"
        },
        "id": "oKncB8y0ZDpy",
        "outputId": "5592376f-1baa-4e8a-e050-53e844a733a3"
      },
      "outputs": [
        {
          "name": "stdout",
          "output_type": "stream",
          "text": [
            "Number of users: 943\n",
            "Number of movies: 1682\n"
          ]
        }
      ],
      "source": [
        "num_users = data['user id'].nunique()\n",
        "num_movies = data['movie id'].nunique()\n",
        "print(\n",
        "    (f\"Number of users: {num_users}\\n\"\n",
        "    f\"Number of movies: {num_movies}\")\n",
        ")"
      ]
    },
    {
      "cell_type": "code",
      "execution_count": 6,
      "metadata": {
        "id": "R7QYW9CG8ETO"
      },
      "outputs": [],
      "source": [
        "class NonLinearModel(nn.Module):\n",
        "    def __init__(self, user_embedding_size, movie_embedding_size, hidden_size):\n",
        "        super(NonLinearModel, self).__init__()\n",
        "\n",
        "        self.user_embedding_layer = nn.Linear(user_embedding_size, hidden_size)\n",
        "        self.movie_embedding_layer = nn.Linear(movie_embedding_size, hidden_size)\n",
        "        self.activation = nn.ReLU()\n",
        "        self.output_layer = nn.Linear(hidden_size, 1)\n",
        "        self.sigmoid = nn.Sigmoid()\n",
        "\n",
        "    def forward(self, user_embedding, movie_embedding):\n",
        "        user_hidden = self.activation(self.user_embedding_layer(user_embedding))\n",
        "        movie_hidden = self.activation(self.movie_embedding_layer(movie_embedding))\n",
        "\n",
        "        # Element-wise multiplication\n",
        "        elementwise_mult = torch.mul(user_hidden, movie_hidden)\n",
        "\n",
        "        # Feed through the output layer\n",
        "        output = self.output_layer(elementwise_mult)\n",
        "\n",
        "        # Apply sigmoid activation for binary classification\n",
        "        output = self.sigmoid(output)\n",
        "\n",
        "        return output*5"
      ]
    },
    {
      "cell_type": "code",
      "execution_count": 7,
      "metadata": {
        "colab": {
          "base_uri": "https://localhost:8080/",
          "height": 423
        },
        "id": "GcqUQ53BaGJ7",
        "outputId": "4160d8ad-9a76-4e23-c1f5-5588565973a5"
      },
      "outputs": [
        {
          "data": {
            "text/html": [
              "<div>\n",
              "<style scoped>\n",
              "    .dataframe tbody tr th:only-of-type {\n",
              "        vertical-align: middle;\n",
              "    }\n",
              "\n",
              "    .dataframe tbody tr th {\n",
              "        vertical-align: top;\n",
              "    }\n",
              "\n",
              "    .dataframe thead th {\n",
              "        text-align: right;\n",
              "    }\n",
              "</style>\n",
              "<table border=\"1\" class=\"dataframe\">\n",
              "  <thead>\n",
              "    <tr style=\"text-align: right;\">\n",
              "      <th></th>\n",
              "      <th>user id</th>\n",
              "      <th>movie id</th>\n",
              "      <th>rating</th>\n",
              "      <th>timestamp</th>\n",
              "    </tr>\n",
              "  </thead>\n",
              "  <tbody>\n",
              "    <tr>\n",
              "      <th>24188</th>\n",
              "      <td>299</td>\n",
              "      <td>88</td>\n",
              "      <td>3</td>\n",
              "      <td>889502902</td>\n",
              "    </tr>\n",
              "    <tr>\n",
              "      <th>14023</th>\n",
              "      <td>347</td>\n",
              "      <td>462</td>\n",
              "      <td>2</td>\n",
              "      <td>881654359</td>\n",
              "    </tr>\n",
              "    <tr>\n",
              "      <th>20170</th>\n",
              "      <td>96</td>\n",
              "      <td>185</td>\n",
              "      <td>5</td>\n",
              "      <td>884403866</td>\n",
              "    </tr>\n",
              "    <tr>\n",
              "      <th>87853</th>\n",
              "      <td>880</td>\n",
              "      <td>302</td>\n",
              "      <td>5</td>\n",
              "      <td>880166451</td>\n",
              "    </tr>\n",
              "    <tr>\n",
              "      <th>8174</th>\n",
              "      <td>177</td>\n",
              "      <td>289</td>\n",
              "      <td>2</td>\n",
              "      <td>880130534</td>\n",
              "    </tr>\n",
              "    <tr>\n",
              "      <th>...</th>\n",
              "      <td>...</td>\n",
              "      <td>...</td>\n",
              "      <td>...</td>\n",
              "      <td>...</td>\n",
              "    </tr>\n",
              "    <tr>\n",
              "      <th>18733</th>\n",
              "      <td>43</td>\n",
              "      <td>215</td>\n",
              "      <td>5</td>\n",
              "      <td>883955467</td>\n",
              "    </tr>\n",
              "    <tr>\n",
              "      <th>83494</th>\n",
              "      <td>860</td>\n",
              "      <td>516</td>\n",
              "      <td>3</td>\n",
              "      <td>885991040</td>\n",
              "    </tr>\n",
              "    <tr>\n",
              "      <th>36379</th>\n",
              "      <td>313</td>\n",
              "      <td>484</td>\n",
              "      <td>5</td>\n",
              "      <td>891016193</td>\n",
              "    </tr>\n",
              "    <tr>\n",
              "      <th>17294</th>\n",
              "      <td>112</td>\n",
              "      <td>286</td>\n",
              "      <td>4</td>\n",
              "      <td>884992484</td>\n",
              "    </tr>\n",
              "    <tr>\n",
              "      <th>71036</th>\n",
              "      <td>660</td>\n",
              "      <td>3</td>\n",
              "      <td>1</td>\n",
              "      <td>891405958</td>\n",
              "    </tr>\n",
              "  </tbody>\n",
              "</table>\n",
              "<p>10000 rows × 4 columns</p>\n",
              "</div>"
            ],
            "text/plain": [
              "       user id  movie id  rating  timestamp\n",
              "24188      299        88       3  889502902\n",
              "14023      347       462       2  881654359\n",
              "20170       96       185       5  884403866\n",
              "87853      880       302       5  880166451\n",
              "8174       177       289       2  880130534\n",
              "...        ...       ...     ...        ...\n",
              "18733       43       215       5  883955467\n",
              "83494      860       516       3  885991040\n",
              "36379      313       484       5  891016193\n",
              "17294      112       286       4  884992484\n",
              "71036      660         3       1  891405958\n",
              "\n",
              "[10000 rows x 4 columns]"
            ]
          },
          "execution_count": 7,
          "metadata": {},
          "output_type": "execute_result"
        }
      ],
      "source": [
        "data_train,data_test = model_selection.train_test_split(data, test_size = 0.1,random_state = 42,stratify = data['rating'])\n",
        "data_test"
      ]
    },
    {
      "cell_type": "code",
      "execution_count": 8,
      "metadata": {
        "id": "PjOZQ0f0ke_W"
      },
      "outputs": [],
      "source": [
        "class MF(nn.Module):\n",
        "  def __init__(self,users,movie_ids,user_embed_size,movie_embed_size):\n",
        "    super(MF,self).__init__()\n",
        "    self.user_embed = nn.Embedding(users,user_embed_size)\n",
        "    self.user_bias = nn.Embedding(users, 1)\n",
        "    self.movie_embed = nn.Embedding(movie_ids,movie_embed_size)\n",
        "    self.movie_bias = nn.Embedding(movie_ids,1)\n",
        "    self.user_embed.weight.data.uniform_(0,0.05)\n",
        "    self.movie_embed.weight.data.uniform_(0,0.05)\n",
        "    self.user_bias.weight.data.uniform_(-0.01,0.01)\n",
        "    self.movie_bias.weight.data.uniform_(-0.01,0.01)\n",
        "    self.nonlinear = NonLinearModel(user_embed_size,movie_embed_size,64)\n",
        "\n",
        "\n",
        "  def forward(self,u,v):\n",
        "    U = self.user_embed(u)\n",
        "    V = self.movie_embed(v)\n",
        "    return self.nonlinear(U,V)\n"
      ]
    },
    {
      "cell_type": "code",
      "execution_count": 9,
      "metadata": {
        "id": "mS_8zKl7phP5"
      },
      "outputs": [],
      "source": [
        "def train_epochs(model,lr,epochs,Nueralnet = False):\n",
        "  optimizer = torch.optim.Adam(model.parameters(), lr=lr)\n",
        "  loss_fn = nn.MSELoss()\n",
        "  for t in range(epochs):\n",
        "    model.train()\n",
        "    users = torch.LongTensor(data_train['user id'].to_numpy()) # .cuda()\n",
        "    items = torch.LongTensor(data_train['movie id'].to_numpy()) #.cuda()\n",
        "    if Nueralnet:\n",
        "        ratings = torch.FloatTensor(data_train['rating'].to_numpy())/5\n",
        "        ratings = ratings.unsqueeze(1)\n",
        "    else:\n",
        "        ratings = torch.FloatTensor(data_train['rating'].to_numpy()) #.cuda()\n",
        "    y_pred = model(users,items)\n",
        "    loss_train = loss_fn(y_pred.squeeze(),ratings)\n",
        "\n",
        "    # Backpropagation\n",
        "    optimizer.zero_grad()\n",
        "    loss_train.backward()\n",
        "    optimizer.step()\n",
        "\n",
        "    model.eval()\n",
        "    with torch.no_grad():\n",
        "        test_users = torch.LongTensor(data_test['user id'].to_numpy())\n",
        "        test_items = torch.LongTensor(data_test['movie id'].to_numpy())\n",
        "        if Nueralnet:\n",
        "            test_ratings = torch.FloatTensor(data_test['rating'].to_numpy())/5\n",
        "            test_ratings=test_ratings.unsqueeze(1)\n",
        "        else:\n",
        "            test_ratings = torch.FloatTensor(data_test['rating'].to_numpy())\n",
        "        pred_test = model(test_users,test_items)\n",
        "        loss_test = loss_fn(pred_test.squeeze(), test_ratings)\n",
        "\n",
        "    print(f\"Epoch {t+1} -- Train loss: {loss_train:>7f} Test loss: {loss_test:>7f}\")\n"
      ]
    },
    {
      "cell_type": "code",
      "execution_count": 10,
      "metadata": {
        "colab": {
          "base_uri": "https://localhost:8080/"
        },
        "id": "-hEqdQczIClM",
        "outputId": "83779218-bab0-42d0-e65a-13b2f9604790"
      },
      "outputs": [
        {
          "name": "stdout",
          "output_type": "stream",
          "text": [
            "Epoch 1 -- Train loss: 2.559910 Test loss: 2.201903\n",
            "Epoch 2 -- Train loss: 2.201351 Test loss: 1.191207\n",
            "Epoch 3 -- Train loss: 1.155521 Test loss: 1.234888\n",
            "Epoch 4 -- Train loss: 1.167054 Test loss: 1.270009\n",
            "Epoch 5 -- Train loss: 1.228638 Test loss: 1.123796\n",
            "Epoch 6 -- Train loss: 1.070476 Test loss: 1.052099\n",
            "Epoch 7 -- Train loss: 0.979383 Test loss: 1.137652\n",
            "Epoch 8 -- Train loss: 1.052339 Test loss: 1.083558\n",
            "Epoch 9 -- Train loss: 0.996821 Test loss: 0.970891\n",
            "Epoch 10 -- Train loss: 0.886993 Test loss: 0.978370\n",
            "Epoch 11 -- Train loss: 0.912830 Test loss: 1.011412\n",
            "Epoch 12 -- Train loss: 0.948133 Test loss: 0.963189\n",
            "Epoch 13 -- Train loss: 0.896982 Test loss: 0.923383\n",
            "Epoch 14 -- Train loss: 0.837811 Test loss: 0.958558\n",
            "Epoch 15 -- Train loss: 0.854956 Test loss: 0.968678\n",
            "Epoch 16 -- Train loss: 0.861958 Test loss: 0.927036\n",
            "Epoch 17 -- Train loss: 0.823618 Test loss: 0.904143\n",
            "Epoch 18 -- Train loss: 0.810499 Test loss: 0.905083\n",
            "Epoch 19 -- Train loss: 0.807296 Test loss: 0.907601\n",
            "Epoch 20 -- Train loss: 0.795512 Test loss: 0.911384\n",
            "Epoch 21 -- Train loss: 0.787642 Test loss: 0.913754\n",
            "Epoch 22 -- Train loss: 0.787725 Test loss: 0.911795\n",
            "Epoch 23 -- Train loss: 0.780095 Test loss: 0.910696\n",
            "Epoch 24 -- Train loss: 0.781954 Test loss: 0.909117\n",
            "Epoch 25 -- Train loss: 0.778996 Test loss: 0.898864\n",
            "Epoch 26 -- Train loss: 0.770069 Test loss: 0.906868\n",
            "Epoch 27 -- Train loss: 0.765340 Test loss: 0.915868\n",
            "Epoch 28 -- Train loss: 0.763535 Test loss: 0.906492\n",
            "Epoch 29 -- Train loss: 0.757467 Test loss: 0.899467\n",
            "Epoch 30 -- Train loss: 0.752469 Test loss: 0.897737\n",
            "Epoch 31 -- Train loss: 0.750001 Test loss: 0.900454\n",
            "Epoch 32 -- Train loss: 0.743625 Test loss: 0.906655\n",
            "Epoch 33 -- Train loss: 0.742763 Test loss: 0.909906\n",
            "Epoch 34 -- Train loss: 0.739902 Test loss: 0.896593\n",
            "Epoch 35 -- Train loss: 0.732051 Test loss: 0.894754\n",
            "Epoch 36 -- Train loss: 0.730411 Test loss: 0.897784\n",
            "Epoch 37 -- Train loss: 0.725128 Test loss: 0.901129\n",
            "Epoch 38 -- Train loss: 0.720200 Test loss: 0.902490\n",
            "Epoch 39 -- Train loss: 0.718061 Test loss: 0.896547\n",
            "Epoch 40 -- Train loss: 0.709765 Test loss: 0.900104\n",
            "Epoch 41 -- Train loss: 0.707556 Test loss: 0.899979\n",
            "Epoch 42 -- Train loss: 0.701833 Test loss: 0.903364\n",
            "Epoch 43 -- Train loss: 0.696545 Test loss: 0.908855\n",
            "Epoch 44 -- Train loss: 0.691826 Test loss: 0.911529\n",
            "Epoch 45 -- Train loss: 0.686247 Test loss: 0.912693\n",
            "Epoch 46 -- Train loss: 0.681691 Test loss: 0.915999\n",
            "Epoch 47 -- Train loss: 0.676149 Test loss: 0.925133\n",
            "Epoch 48 -- Train loss: 0.671621 Test loss: 0.919964\n",
            "Epoch 49 -- Train loss: 0.667371 Test loss: 0.938477\n",
            "Epoch 50 -- Train loss: 0.669742 Test loss: 0.931110\n",
            "Epoch 51 -- Train loss: 0.671328 Test loss: 0.941892\n",
            "Epoch 52 -- Train loss: 0.660212 Test loss: 0.935426\n",
            "Epoch 53 -- Train loss: 0.650767 Test loss: 0.930099\n",
            "Epoch 54 -- Train loss: 0.647558 Test loss: 0.945263\n",
            "Epoch 55 -- Train loss: 0.642318 Test loss: 0.951388\n",
            "Epoch 56 -- Train loss: 0.635607 Test loss: 0.951460\n",
            "Epoch 57 -- Train loss: 0.631101 Test loss: 0.958566\n",
            "Epoch 58 -- Train loss: 0.625859 Test loss: 0.957212\n",
            "Epoch 59 -- Train loss: 0.619653 Test loss: 0.963838\n",
            "Epoch 60 -- Train loss: 0.614858 Test loss: 0.978892\n",
            "Model trained\n"
          ]
        }
      ],
      "source": [
        "model = MF(num_users+1, num_movies+1,user_embed_size=200,movie_embed_size=200)\n",
        "train_epochs(model,0.04,60)\n",
        "print(\"Model trained\")\n"
      ]
    },
    {
      "cell_type": "code",
      "execution_count": 11,
      "metadata": {
        "colab": {
          "base_uri": "https://localhost:8080/"
        },
        "id": "EeuPFwjcWA4v",
        "outputId": "44948960-a244-4df9-d364-036f45e2954f"
      },
      "outputs": [],
      "source": [
        "user_id = input(\"Enter the user_id for movie recommendations: \")\n",
        "movie_list = data[data['user id'] == int(user_id)]['movie id'].to_list()\n",
        "unseen_list = [int(x) for x in range(1,num_movies+1) if x not in movie_list]\n",
        "unseen_list = np.array(unseen_list)\n",
        "temp_x = torch.LongTensor(np.full(np.size(unseen_list),int(user_id)))\n",
        "unseen_mov = torch.LongTensor(unseen_list)\n"
      ]
    },
    {
      "cell_type": "code",
      "execution_count": 12,
      "metadata": {
        "colab": {
          "base_uri": "https://localhost:8080/"
        },
        "id": "mjqlHAyD_KNw",
        "outputId": "924aeaae-0bbe-4390-b979-7cdc248fe6e2"
      },
      "outputs": [
        {
          "name": "stdout",
          "output_type": "stream",
          "text": [
            "tensor([[4.9070],\n",
            "        [4.6206],\n",
            "        [4.5668],\n",
            "        ...,\n",
            "        [2.9324],\n",
            "        [4.1046],\n",
            "        [3.5053]], grad_fn=<MulBackward0>)\n",
            "tensor([[5.0000],\n",
            "        [5.0000],\n",
            "        [5.0000],\n",
            "        ...,\n",
            "        [0.1975],\n",
            "        [0.1090],\n",
            "        [0.0958]])\n",
            "-------------Recommended movies by MF--------------\n",
            "Santa with Muscles (1996) 4.99\n",
            "Perfect Candidate, A (1996) 4.99\n",
            "Some Mother's Son (1996) 4.99\n",
            "Lamerica (1994) 4.99\n",
            "Sliding Doors (1998) 4.99\n",
            "Butcher Boy, The (1998) 4.99\n",
            "Butcher Boy, The (1998) 4.99\n",
            "Brothers in Trouble (1995) 4.99\n",
            "Spanish Prisoner, The (1997) 4.99\n",
            "Bitter Sugar (Azucar Amargo) (1996) 4.99\n"
          ]
        }
      ],
      "source": [
        "model.eval()\n",
        "predictions_MF = model(temp_x,unseen_mov)\n",
        "print(predictions_MF)\n",
        "with torch.no_grad():\n",
        "  sorted_values, sorted_indices = torch.sort(predictions_MF, dim=0, descending=True)\n",
        "  ordered_movies = unseen_mov[sorted_indices]\n",
        "  ordered_ratings = predictions_MF.squeeze()[sorted_indices]\n",
        "  print(ordered_ratings)\n",
        "  i=0\n",
        "  print(\"-------------Recommended movies by MF--------------\")\n",
        "  for xyz in ordered_movies[:10]:\n",
        "    print(map_id_movie[xyz.item()],str(ordered_ratings[i].item())[:4])\n",
        "    i=i+1"
      ]
    }
  ],
  "metadata": {
    "colab": {
      "provenance": []
    },
    "kernelspec": {
      "display_name": "Python 3",
      "name": "python3"
    },
    "language_info": {
      "codemirror_mode": {
        "name": "ipython",
        "version": 3
      },
      "file_extension": ".py",
      "mimetype": "text/x-python",
      "name": "python",
      "nbconvert_exporter": "python",
      "pygments_lexer": "ipython3",
      "version": "3.10.1"
    }
  },
  "nbformat": 4,
  "nbformat_minor": 0
}
